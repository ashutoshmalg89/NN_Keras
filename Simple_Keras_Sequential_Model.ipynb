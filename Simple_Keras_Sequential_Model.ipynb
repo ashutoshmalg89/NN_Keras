{
  "nbformat": 4,
  "nbformat_minor": 0,
  "metadata": {
    "colab": {
      "name": "Simple_Keras_Sequential_Model.ipynb",
      "provenance": [],
      "collapsed_sections": [],
      "include_colab_link": true
    },
    "kernelspec": {
      "name": "python3",
      "display_name": "Python 3"
    },
    "accelerator": "GPU"
  },
  "cells": [
    {
      "cell_type": "markdown",
      "metadata": {
        "id": "view-in-github",
        "colab_type": "text"
      },
      "source": [
        "<a href=\"https://colab.research.google.com/github/ashutoshmalg89/NN_Keras/blob/main/Simple_Keras_Sequential_Model.ipynb\" target=\"_parent\"><img src=\"https://colab.research.google.com/assets/colab-badge.svg\" alt=\"Open In Colab\"/></a>"
      ]
    },
    {
      "cell_type": "code",
      "metadata": {
        "id": "bc3uRH7GGf5F"
      },
      "source": [
        "import numpy as np\n",
        "import pandas as pd\n",
        "from random import randint\n",
        "from sklearn.utils import shuffle\n",
        "from sklearn.preprocessing import MinMaxScaler"
      ],
      "execution_count": null,
      "outputs": []
    },
    {
      "cell_type": "code",
      "metadata": {
        "id": "CKitZSsjG1QV"
      },
      "source": [
        "train_samples = []\n",
        "train_labels = []"
      ],
      "execution_count": null,
      "outputs": []
    },
    {
      "cell_type": "markdown",
      "metadata": {
        "id": "rhqjEIdyG8fr"
      },
      "source": [
        "**Example Data:**\n",
        "*   An experiment drug was tested on individuals from ages 13 to 100 in clinical trial.\n",
        "*  The trail had 2100 participants. Half were under 65 years old and half were 65 years or older.\n",
        "*   Around 95% of patients 65 or older experienced side effects.\n",
        "*   Around 95% of patients below 65 years experienced no side effects.\n",
        "\n",
        "\n",
        "\n",
        "\n",
        "\n"
      ]
    },
    {
      "cell_type": "code",
      "metadata": {
        "id": "fQh_kBC6H0AC"
      },
      "source": [
        "for i in range(50):\n",
        "  # ~5% of younger population that did experience side effects\n",
        "  random_younger = randint(13,64)\n",
        "  train_samples.append(random_younger)\n",
        "  train_labels.append(1)\n",
        "\n",
        "  # ~5% of older population that did not experience side effects\n",
        "  random_older = randint(65,100)\n",
        "  train_samples.append(random_older)\n",
        "  train_labels.append(0)\n",
        "\n",
        "\n",
        "\n",
        "for i in range(1000):\n",
        "  # ~95% of younger population that did not experience side effects\n",
        "  random_younger = randint(13,64)\n",
        "  train_samples.append(random_younger)\n",
        "  train_labels.append(0)\n",
        "\n",
        "  # ~95% of older population that did experience side effects\n",
        "  random_older = randint(65,100)\n",
        "  train_samples.append(random_older)\n",
        "  train_labels.append(1)"
      ],
      "execution_count": null,
      "outputs": []
    },
    {
      "cell_type": "code",
      "metadata": {
        "colab": {
          "base_uri": "https://localhost:8080/"
        },
        "id": "ZoqCb4FcG51I",
        "outputId": "4eda4f86-4cf5-4d15-e439-0e2e266f7cb9"
      },
      "source": [
        "# Convert to numpy array and shuffle\n",
        "\n",
        "train_samples = np.array(train_samples)\n",
        "train_labels = np.array(train_labels)\n",
        "\n",
        "train_samples, train_labels = shuffle(train_samples, train_labels)\n",
        "\n",
        "train_samples.shape, train_labels.shape\n"
      ],
      "execution_count": null,
      "outputs": [
        {
          "output_type": "execute_result",
          "data": {
            "text/plain": [
              "((2100,), (2100,))"
            ]
          },
          "metadata": {
            "tags": []
          },
          "execution_count": 4
        }
      ]
    },
    {
      "cell_type": "code",
      "metadata": {
        "id": "3_YDas_SKgsy"
      },
      "source": [
        "scaler = MinMaxScaler(feature_range=(0,1))\n",
        "sclaed_trained_samples = scaler.fit_transform(train_samples.reshape(-1,1))"
      ],
      "execution_count": null,
      "outputs": []
    },
    {
      "cell_type": "code",
      "metadata": {
        "colab": {
          "base_uri": "https://localhost:8080/"
        },
        "id": "SxCps1yzLsc2",
        "outputId": "9ba895cd-2158-437f-a4a5-baf1ee33c6ce"
      },
      "source": [
        "\n",
        "for i in range(10):\n",
        "  print(sclaed_trained_samples[i])"
      ],
      "execution_count": null,
      "outputs": [
        {
          "output_type": "stream",
          "text": [
            "[0.63218391]\n",
            "[0.25287356]\n",
            "[0.67816092]\n",
            "[0.37931034]\n",
            "[0.87356322]\n",
            "[0.86206897]\n",
            "[0.79310345]\n",
            "[1.]\n",
            "[0.10344828]\n",
            "[0.25287356]\n"
          ],
          "name": "stdout"
        }
      ]
    },
    {
      "cell_type": "code",
      "metadata": {
        "id": "c6HYI-gGMyHs"
      },
      "source": [
        "import tensorflow as tf\n",
        "from tensorflow import keras\n",
        "from tensorflow.keras.models import  Sequential\n",
        "from tensorflow.keras.layers import Dense,Activation\n",
        "from tensorflow.keras.optimizers import Adam\n",
        "from tensorflow.keras.metrics import categorical_crossentropy, categorical_accuracy\n"
      ],
      "execution_count": null,
      "outputs": []
    },
    {
      "cell_type": "code",
      "metadata": {
        "colab": {
          "base_uri": "https://localhost:8080/"
        },
        "id": "8ey3_K-ENXY7",
        "outputId": "8c5f04d6-adbf-4b6c-8084-e4a5ebcd853c"
      },
      "source": [
        "physical_devices = tf.config.experimental.list_physical_devices('GPU')\n",
        "print(\"Num of GPU's available \",len(physical_devices))\n",
        "# Only for GPU \n",
        "tf.config.experimental.set_memory_growth(physical_devices[0],True)"
      ],
      "execution_count": null,
      "outputs": [
        {
          "output_type": "stream",
          "text": [
            "Num of GPU's available  1\n"
          ],
          "name": "stdout"
        }
      ]
    },
    {
      "cell_type": "code",
      "metadata": {
        "colab": {
          "base_uri": "https://localhost:8080/"
        },
        "id": "43iIvMhLOksd",
        "outputId": "edc86641-ee71-4916-affd-177539243ee7"
      },
      "source": [
        "model = Sequential([\n",
        "                    Dense(units=16, input_shape=(1,), activation='relu'),\n",
        "                    Dense(units=32, activation='relu'),\n",
        "                    Dense(units=2, activation='softmax')\n",
        "])\n",
        "\n",
        "model.summary()"
      ],
      "execution_count": null,
      "outputs": [
        {
          "output_type": "stream",
          "text": [
            "Model: \"sequential_2\"\n",
            "_________________________________________________________________\n",
            "Layer (type)                 Output Shape              Param #   \n",
            "=================================================================\n",
            "dense_6 (Dense)              (None, 16)                32        \n",
            "_________________________________________________________________\n",
            "dense_7 (Dense)              (None, 32)                544       \n",
            "_________________________________________________________________\n",
            "dense_8 (Dense)              (None, 2)                 66        \n",
            "=================================================================\n",
            "Total params: 642\n",
            "Trainable params: 642\n",
            "Non-trainable params: 0\n",
            "_________________________________________________________________\n"
          ],
          "name": "stdout"
        }
      ]
    },
    {
      "cell_type": "code",
      "metadata": {
        "id": "CjFvOndQSGRq"
      },
      "source": [
        "model.compile(optimizer=Adam(learning_rate=0.0001), loss='sparse_categorical_crossentropy',metrics=['accuracy'])"
      ],
      "execution_count": null,
      "outputs": []
    },
    {
      "cell_type": "code",
      "metadata": {
        "colab": {
          "base_uri": "https://localhost:8080/"
        },
        "id": "T1dQXt9jSsjm",
        "outputId": "2157e61c-13f1-4302-d2c2-f9dfc2c87c4d"
      },
      "source": [
        "model.fit(x=sclaed_trained_samples, y=train_labels, batch_size=10, epochs=30, shuffle=True, verbose=2)"
      ],
      "execution_count": null,
      "outputs": [
        {
          "output_type": "stream",
          "text": [
            "Epoch 1/30\n",
            "210/210 - 3s - loss: 0.7385 - accuracy: 0.4657\n",
            "Epoch 2/30\n",
            "210/210 - 0s - loss: 0.6880 - accuracy: 0.6471\n",
            "Epoch 3/30\n",
            "210/210 - 0s - loss: 0.6514 - accuracy: 0.7033\n",
            "Epoch 4/30\n",
            "210/210 - 0s - loss: 0.6179 - accuracy: 0.7338\n",
            "Epoch 5/30\n",
            "210/210 - 0s - loss: 0.5830 - accuracy: 0.7738\n",
            "Epoch 6/30\n",
            "210/210 - 0s - loss: 0.5480 - accuracy: 0.8043\n",
            "Epoch 7/30\n",
            "210/210 - 0s - loss: 0.5110 - accuracy: 0.8400\n",
            "Epoch 8/30\n",
            "210/210 - 0s - loss: 0.4748 - accuracy: 0.8638\n",
            "Epoch 9/30\n",
            "210/210 - 0s - loss: 0.4423 - accuracy: 0.8843\n",
            "Epoch 10/30\n",
            "210/210 - 0s - loss: 0.4136 - accuracy: 0.8919\n",
            "Epoch 11/30\n",
            "210/210 - 0s - loss: 0.3889 - accuracy: 0.8976\n",
            "Epoch 12/30\n",
            "210/210 - 0s - loss: 0.3676 - accuracy: 0.9014\n",
            "Epoch 13/30\n",
            "210/210 - 0s - loss: 0.3494 - accuracy: 0.9076\n",
            "Epoch 14/30\n",
            "210/210 - 0s - loss: 0.3342 - accuracy: 0.9052\n",
            "Epoch 15/30\n",
            "210/210 - 0s - loss: 0.3218 - accuracy: 0.9119\n",
            "Epoch 16/30\n",
            "210/210 - 0s - loss: 0.3116 - accuracy: 0.9171\n",
            "Epoch 17/30\n",
            "210/210 - 0s - loss: 0.3032 - accuracy: 0.9167\n",
            "Epoch 18/30\n",
            "210/210 - 0s - loss: 0.2960 - accuracy: 0.9210\n",
            "Epoch 19/30\n",
            "210/210 - 0s - loss: 0.2901 - accuracy: 0.9210\n",
            "Epoch 20/30\n",
            "210/210 - 0s - loss: 0.2851 - accuracy: 0.9224\n",
            "Epoch 21/30\n",
            "210/210 - 0s - loss: 0.2808 - accuracy: 0.9238\n",
            "Epoch 22/30\n",
            "210/210 - 0s - loss: 0.2776 - accuracy: 0.9243\n",
            "Epoch 23/30\n",
            "210/210 - 0s - loss: 0.2745 - accuracy: 0.9300\n",
            "Epoch 24/30\n",
            "210/210 - 0s - loss: 0.2719 - accuracy: 0.9286\n",
            "Epoch 25/30\n",
            "210/210 - 0s - loss: 0.2697 - accuracy: 0.9324\n",
            "Epoch 26/30\n",
            "210/210 - 0s - loss: 0.2678 - accuracy: 0.9271\n",
            "Epoch 27/30\n",
            "210/210 - 0s - loss: 0.2662 - accuracy: 0.9319\n",
            "Epoch 28/30\n",
            "210/210 - 0s - loss: 0.2647 - accuracy: 0.9324\n",
            "Epoch 29/30\n",
            "210/210 - 0s - loss: 0.2635 - accuracy: 0.9310\n",
            "Epoch 30/30\n",
            "210/210 - 0s - loss: 0.2622 - accuracy: 0.9324\n"
          ],
          "name": "stdout"
        },
        {
          "output_type": "execute_result",
          "data": {
            "text/plain": [
              "<tensorflow.python.keras.callbacks.History at 0x7f00b8193c50>"
            ]
          },
          "metadata": {
            "tags": []
          },
          "execution_count": 16
        }
      ]
    },
    {
      "cell_type": "code",
      "metadata": {
        "colab": {
          "base_uri": "https://localhost:8080/"
        },
        "id": "SCdI3e2PTkzt",
        "outputId": "b8fabf46-e090-4951-d00b-bf92c482f285"
      },
      "source": [
        "model.predict([0.976543],batch_size=None)"
      ],
      "execution_count": null,
      "outputs": [
        {
          "output_type": "execute_result",
          "data": {
            "text/plain": [
              "array([[0.02903232, 0.97096765]], dtype=float32)"
            ]
          },
          "metadata": {
            "tags": []
          },
          "execution_count": 20
        }
      ]
    }
  ]
}